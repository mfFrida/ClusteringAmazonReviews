{
 "cells": [
  {
   "cell_type": "markdown",
   "id": "9ce2444c",
   "metadata": {},
   "source": [
    "# Classifying Amazon Reviews"
   ]
  },
  {
   "cell_type": "markdown",
   "id": "dbd39e7d",
   "metadata": {},
   "source": [
    "## Buisness Understanding"
   ]
  },
  {
   "cell_type": "markdown",
   "id": "7bb98a6d",
   "metadata": {},
   "source": [
    "## Data Understanding"
   ]
  },
  {
   "cell_type": "markdown",
   "id": "351a58d0",
   "metadata": {},
   "source": [
    "## Data Preparation"
   ]
  },
  {
   "cell_type": "markdown",
   "id": "2076ede7",
   "metadata": {},
   "source": [
    "### Importing Packages"
   ]
  },
  {
   "cell_type": "code",
   "execution_count": 2,
   "id": "7e1aa18b",
   "metadata": {},
   "outputs": [],
   "source": [
    "import pandas as pd\n",
    "import numpy as np\n",
    "import matplotlib.pyplot as plt\n",
    "\n",
    "# For working with dictionaries\n",
    "import collections\n",
    "import operator\n",
    "\n",
    "# For text cleaning\n",
    "import re\n",
    "import math\n",
    "import nltk \n",
    "from nltk.corpus import stopwords\n",
    "import string\n",
    "from nltk import word_tokenize\n",
    "from nltk import FreqDist\n",
    "import string\n",
    "\n",
    "\n",
    "# WordCloud Visualization\n",
    "from wordcloud import WordCloud\n",
    "\n",
    "# Activate CountVectorizer\n",
    "from sklearn.feature_extraction.text import CountVectorizer\n",
    "\n",
    "# Decision Tree\n",
    "from sklearn.model_selection import train_test_split\n",
    "from sklearn.tree import DecisionTreeClassifier \n",
    "from sklearn.metrics import accuracy_score\n",
    "from sklearn.preprocessing import OneHotEncoder\n",
    "from sklearn import tree\n",
    "\n",
    "# Term Features Matrix + Clustering\n",
    "#from sklearn.feature_extraction.text import TfidfVectorizer\n",
    "#from sklearn.cluster import KMeans"
   ]
  },
  {
   "cell_type": "markdown",
   "id": "ee2bfa00",
   "metadata": {},
   "source": [
    "### Data Extraction"
   ]
  },
  {
   "cell_type": "markdown",
   "id": "50ce1a56",
   "metadata": {},
   "source": [
    "##### This data set has been downloaded from the Amazon ficial web site"
   ]
  },
  {
   "cell_type": "code",
   "execution_count": 3,
   "id": "0033a0ce",
   "metadata": {},
   "outputs": [
    {
     "data": {
      "text/html": [
       "<div>\n",
       "<style scoped>\n",
       "    .dataframe tbody tr th:only-of-type {\n",
       "        vertical-align: middle;\n",
       "    }\n",
       "\n",
       "    .dataframe tbody tr th {\n",
       "        vertical-align: top;\n",
       "    }\n",
       "\n",
       "    .dataframe thead th {\n",
       "        text-align: right;\n",
       "    }\n",
       "</style>\n",
       "<table border=\"1\" class=\"dataframe\">\n",
       "  <thead>\n",
       "    <tr style=\"text-align: right;\">\n",
       "      <th></th>\n",
       "      <th>rating</th>\n",
       "      <th>date</th>\n",
       "      <th>variation</th>\n",
       "      <th>verified_reviews</th>\n",
       "      <th>feedback</th>\n",
       "    </tr>\n",
       "  </thead>\n",
       "  <tbody>\n",
       "    <tr>\n",
       "      <th>0</th>\n",
       "      <td>5</td>\n",
       "      <td>31-Jul-18</td>\n",
       "      <td>Charcoal Fabric</td>\n",
       "      <td>Love my Echo!</td>\n",
       "      <td>1</td>\n",
       "    </tr>\n",
       "    <tr>\n",
       "      <th>1</th>\n",
       "      <td>5</td>\n",
       "      <td>31-Jul-18</td>\n",
       "      <td>Charcoal Fabric</td>\n",
       "      <td>Loved it!</td>\n",
       "      <td>1</td>\n",
       "    </tr>\n",
       "    <tr>\n",
       "      <th>2</th>\n",
       "      <td>4</td>\n",
       "      <td>31-Jul-18</td>\n",
       "      <td>Walnut Finish</td>\n",
       "      <td>Sometimes while playing a game, you can answer...</td>\n",
       "      <td>1</td>\n",
       "    </tr>\n",
       "    <tr>\n",
       "      <th>3</th>\n",
       "      <td>5</td>\n",
       "      <td>31-Jul-18</td>\n",
       "      <td>Charcoal Fabric</td>\n",
       "      <td>I have had a lot of fun with this thing. My 4 ...</td>\n",
       "      <td>1</td>\n",
       "    </tr>\n",
       "    <tr>\n",
       "      <th>4</th>\n",
       "      <td>5</td>\n",
       "      <td>31-Jul-18</td>\n",
       "      <td>Charcoal Fabric</td>\n",
       "      <td>Music</td>\n",
       "      <td>1</td>\n",
       "    </tr>\n",
       "  </tbody>\n",
       "</table>\n",
       "</div>"
      ],
      "text/plain": [
       "   rating       date         variation  \\\n",
       "0       5  31-Jul-18  Charcoal Fabric    \n",
       "1       5  31-Jul-18  Charcoal Fabric    \n",
       "2       4  31-Jul-18    Walnut Finish    \n",
       "3       5  31-Jul-18  Charcoal Fabric    \n",
       "4       5  31-Jul-18  Charcoal Fabric    \n",
       "\n",
       "                                    verified_reviews  feedback  \n",
       "0                                      Love my Echo!         1  \n",
       "1                                          Loved it!         1  \n",
       "2  Sometimes while playing a game, you can answer...         1  \n",
       "3  I have had a lot of fun with this thing. My 4 ...         1  \n",
       "4                                              Music         1  "
      ]
     },
     "execution_count": 3,
     "metadata": {},
     "output_type": "execute_result"
    }
   ],
   "source": [
    "amazon_reviews_df = pd.read_table('C:/Users/fmartinezflores/Documents/Flatiron/DS-Deloitte-1003-c3/ClusteringAmazonReviews_2/ClusteringAmazonReviews/amazon_alexa.tsv')\n",
    "\n",
    "\n",
    "amazon_reviews_df.head(5)"
   ]
  },
  {
   "cell_type": "code",
   "execution_count": 4,
   "id": "110fcd21",
   "metadata": {},
   "outputs": [
    {
     "name": "stdout",
     "output_type": "stream",
     "text": [
      "<class 'pandas.core.frame.DataFrame'>\n",
      "RangeIndex: 3150 entries, 0 to 3149\n",
      "Data columns (total 5 columns):\n",
      " #   Column            Non-Null Count  Dtype \n",
      "---  ------            --------------  ----- \n",
      " 0   rating            3150 non-null   int64 \n",
      " 1   date              3150 non-null   object\n",
      " 2   variation         3150 non-null   object\n",
      " 3   verified_reviews  3150 non-null   object\n",
      " 4   feedback          3150 non-null   int64 \n",
      "dtypes: int64(2), object(3)\n",
      "memory usage: 123.2+ KB\n"
     ]
    }
   ],
   "source": [
    "# Data frame overview. Column information, name-data type.\n",
    "amazon_reviews_df.info()\n",
    "\n",
    "# Counting missing values\n",
    "amazon_reviews_df.isna().sum()\n",
    "\n",
    "# Removing duplicate records\n",
    "amazon_reviews_df = amazon_reviews_df.drop_duplicates()\n"
   ]
  },
  {
   "cell_type": "markdown",
   "id": "cc760089",
   "metadata": {},
   "source": [
    "#### Reviews Overview"
   ]
  },
  {
   "cell_type": "code",
   "execution_count": 5,
   "id": "4dea0b9c",
   "metadata": {},
   "outputs": [
    {
     "name": "stdout",
     "output_type": "stream",
     "text": [
      "Love my Echo!\n",
      "--------------\n",
      "Loved it!\n",
      "--------------\n",
      "Sometimes while playing a game, you can answer a question correctly but Alexa says you got it wrong and answers the same as you.  I like being able to turn lights on and off while away from home.\n",
      "--------------\n",
      "I have had a lot of fun with this thing. My 4 yr old learns about dinosaurs, i control the lights and play games like categories. Has nice sound when playing music as well.\n",
      "--------------\n",
      "Music\n",
      "--------------\n",
      "I received the echo as a gift. I needed another Bluetooth or something to play music easily accessible, and found this smart speaker. Can’t wait to see what else it can do.\n",
      "--------------\n",
      "Without having a cellphone, I cannot use many of her features. I have an iPad but do not see that of any use.  It IS a great alarm.  If u r almost deaf, you can hear her alarm in the bedroom from out in the living room, so that is reason enough to keep her.It is fun to ask random questions to hear her response.  She does not seem to be very smartbon politics yet.\n",
      "--------------\n",
      "I think this is the 5th one I've purchased. I'm working on getting one in every room of my house. I really like what features they offer specifily playing music on all Echos and controlling the lights throughout my house.\n",
      "--------------\n",
      "looks great\n",
      "--------------\n",
      "Love it! I’ve listened to songs I haven’t heard since childhood! I get the news, weather, information! It’s great!\n",
      "--------------\n"
     ]
    }
   ],
   "source": [
    "_reviews = amazon_reviews_df['verified_reviews']\n",
    "\n",
    "for i in range(10):\n",
    "    print(_reviews[i])\n",
    "    print('--------------')\n",
    "  "
   ]
  },
  {
   "cell_type": "markdown",
   "id": "ce56c7ef",
   "metadata": {},
   "source": [
    "### Cleaning"
   ]
  },
  {
   "cell_type": "markdown",
   "id": "31b7b4e6",
   "metadata": {},
   "source": [
    "##### I use two different functions for cleaning, one for creating the vocabulary and other to create a new column in the data frame, this is beacause to work with the clustering algorithm I have to join all my words keeping them in Pandas Series format, in case of the vocabulary I just need a list of words"
   ]
  },
  {
   "cell_type": "code",
   "execution_count": 5,
   "id": "d666cd04",
   "metadata": {},
   "outputs": [],
   "source": [
    "#  Getting rid of stop words and also removing short or long words. \n",
    "# This function cleans one word at a time from a set of words, in this case a \"review\".\n",
    "def cleaning_revs(word, stop_words):\n",
    "    word = word.lower()\n",
    "    words = re.findall('[a-záéíóúüñ]+', word)# Making sure synopsis words dont have a-záéíóúüñ \n",
    "    new_words = [w for w in words if ((not w in stop_words) and len(w)>=3 and len(w)<=24)] # Keeping only words ->\n",
    "    return new_words \n",
    "\n",
    "# Function that joins all the cleaned words to use them in a \n",
    "def joining_revs(word,stop_words):\n",
    "    clean_words = cleaning_revs(word, stop_words)\n",
    "    vocabulary = \" \".join(clean_words)\n",
    "    return vocabulary       \n",
    "\n",
    "# Function that cleans one review at a time by calling the above function \n",
    "# it returns a \"Vocabulary\", this is a list of lists, each list contains all words in a review\n",
    "def clean_each_review(review):\n",
    "        return joining_revs(review.strip(),s_w)\n",
    "\n",
    "s_w = stopwords.words('english')\n",
    "\n",
    "# More words that we can ignore to refine our vocabulary \n",
    "s_w.extend(['echo','alexa','amazon','dot','purchased','one', 'two','zzzzzzz','zzzz', 'device', 'thing'])"
   ]
  },
  {
   "cell_type": "markdown",
   "id": "095b2331",
   "metadata": {},
   "source": [
    "#### Creating new column in df with the cleaned reviews."
   ]
  },
  {
   "cell_type": "code",
   "execution_count": 9,
   "id": "a9acdbef",
   "metadata": {},
   "outputs": [],
   "source": [
    "amazon_reviews_df['cleaned_reviews'] = amazon_reviews_df['verified_reviews'].apply(lambda r: clean_each_review(r))"
   ]
  },
  {
   "cell_type": "code",
   "execution_count": 10,
   "id": "ab69ba0a",
   "metadata": {},
   "outputs": [
    {
     "name": "stdout",
     "output_type": "stream",
     "text": [
      "love\n",
      "--------------\n",
      "loved\n",
      "--------------\n",
      "sometimes playing game answer question correctly says got wrong answers like able turn lights away home\n",
      "--------------\n",
      "lot fun old learns dinosaurs control lights play games like categories nice sound playing music well\n",
      "--------------\n",
      "music\n",
      "--------------\n",
      "received gift needed another bluetooth something play music easily accessible found smart speaker wait see else\n",
      "--------------\n",
      "without cellphone cannot use many features ipad see use great alarm almost deaf hear alarm bedroom living room reason enough keep fun ask random questions hear response seem smartbon politics yet\n",
      "--------------\n",
      "think working getting every room house really like features offer specifily playing music echos controlling lights throughout house\n",
      "--------------\n",
      "looks great\n",
      "--------------\n",
      "love listened songs heard since childhood get news weather information great\n",
      "--------------\n"
     ]
    }
   ],
   "source": [
    "clean_reviews = amazon_reviews_df['cleaned_reviews']\n",
    "\n",
    "for i in range(10):\n",
    "    print( clean_reviews[i])\n",
    "    print('--------------')"
   ]
  },
  {
   "cell_type": "markdown",
   "id": "86ec747c",
   "metadata": {},
   "source": [
    "### Analysing "
   ]
  },
  {
   "cell_type": "markdown",
   "id": "def5e87b",
   "metadata": {},
   "source": [
    "#### Count Ratings"
   ]
  },
  {
   "cell_type": "code",
   "execution_count": 7,
   "id": "83796d47",
   "metadata": {},
   "outputs": [
    {
     "data": {
      "text/plain": [
       "Text(0.5, 1.0, 'Raitings')"
      ]
     },
     "execution_count": 7,
     "metadata": {},
     "output_type": "execute_result"
    },
    {
     "data": {
      "image/png": "[encoded data removed]",
      "text/plain": [
       "<Figure size 432x288 with 1 Axes>"
      ]
     },
     "metadata": {
      "needs_background": "light"
     },
     "output_type": "display_data"
    }
   ],
   "source": [
    "# Plotting\n",
    "amazon_reviews_df['rating'].value_counts().plot(kind='bar', \n",
    "\n",
    "                                                color=['mediumseagreen','lightgreen', 'indianred', 'lightsalmon',  'khaki']);\n",
    "# Graph attributes\n",
    "plt.xlabel('s', color='tomato')\n",
    "plt.ylabel('Count Raitings', color='tomato')\n",
    "plt.title('Raitings', color='teal')"
   ]
  },
  {
   "cell_type": "markdown",
   "id": "7c05b604",
   "metadata": {},
   "source": [
    "#### Count Feedback"
   ]
  },
  {
   "cell_type": "code",
   "execution_count": 6,
   "id": "c70de7e9",
   "metadata": {},
   "outputs": [
    {
     "data": {
      "text/plain": [
       "Text(0.5, 1.0, 'Feedback')"
      ]
     },
     "execution_count": 6,
     "metadata": {},
     "output_type": "execute_result"
    },
    {
     "data": {
      "image/png": "[encoded data removed]",
      "text/plain": [
       "<Figure size 432x288 with 1 Axes>"
      ]
     },
     "metadata": {
      "needs_background": "light"
     },
     "output_type": "display_data"
    }
   ],
   "source": [
    "# TRANSFORMAR EN PIE CHART: POSITIVE AND NEGATIVE FEEDBACK\n",
    "# Plotting\n",
    "amazon_reviews_df['feedback'].value_counts().plot(kind='bar', color=['lightgreen', 'indianred']);\n",
    "\n",
    "# Graph attributes\n",
    "plt.xlabel('s', color='tomato')\n",
    "plt.ylabel('Count Feedback', color='tomato')\n",
    "plt.title('Feedback', color='teal')"
   ]
  },
  {
   "cell_type": "code",
   "execution_count": null,
   "id": "76444551",
   "metadata": {},
   "outputs": [],
   "source": [
    "# En general la mayoria de als reseñas son pósitivas"
   ]
  },
  {
   "cell_type": "markdown",
   "id": "b57021e2",
   "metadata": {},
   "source": [
    "#### Ratings By Date"
   ]
  },
  {
   "cell_type": "code",
   "execution_count": 29,
   "id": "aabe7987",
   "metadata": {},
   "outputs": [],
   "source": [
    "# Changing string date to Date\n",
    "amazon_reviews_df['date'] = pd.to_datetime(amazon_reviews_df['date'])"
   ]
  },
  {
   "cell_type": "code",
   "execution_count": 33,
   "id": "f3314c59",
   "metadata": {},
   "outputs": [
    {
     "data": {
      "text/plain": [
       "Text(0.5, 1.0, 'Ratings By Date')"
      ]
     },
     "execution_count": 33,
     "metadata": {},
     "output_type": "execute_result"
    },
    {
     "data": {
      "image/png": "[encoded data removed]",
      "text/plain": [
       "<Figure size 1080x360 with 1 Axes>"
      ]
     },
     "metadata": {
      "needs_background": "light"
     },
     "output_type": "display_data"
    }
   ],
   "source": [
    "# Visualizing data\n",
    "dates = amazon_reviews_df['date'].sort_values()\n",
    "ratings = amazon_reviews_df['rating']\n",
    "\n",
    "# Graph attributes\n",
    "plt.figure(figsize=(15,5))\n",
    "plt.yticks([1, 2, 3, 4, 5])\n",
    "plt.scatter(dates, ratings, \n",
    "         c = ratings,\n",
    "         cmap = 'RdYlGn')\n",
    "\n",
    "plt.xlabel('Dates', color='tomato')\n",
    "plt.ylabel('Raitings', color='tomato')\n",
    "plt.title('Ratings By Date', color='teal')"
   ]
  },
  {
   "cell_type": "code",
   "execution_count": null,
   "id": "aa1f24a1",
   "metadata": {},
   "outputs": [],
   "source": [
    "# x de cada y reseñas son malas cada día?mes?3 días"
   ]
  },
  {
   "cell_type": "code",
   "execution_count": null,
   "id": "3fcc362c",
   "metadata": {},
   "outputs": [],
   "source": [
    "# Aumentó el número de personas que hacen reviews y aumentaron las reseñas negativas"
   ]
  },
  {
   "cell_type": "markdown",
   "id": "c9efa40c",
   "metadata": {},
   "source": [
    "#### Reviews"
   ]
  },
  {
   "cell_type": "code",
   "execution_count": 9,
   "id": "c7449070",
   "metadata": {},
   "outputs": [
    {
     "data": {
      "text/plain": [
       "<AxesSubplot:title={'center':'Reviews by Variation'}, xlabel='variation'>"
      ]
     },
     "execution_count": 9,
     "metadata": {},
     "output_type": "execute_result"
    },
    {
     "data": {
      "image/png": "[encoded data removed]",
      "text/plain": [
       "<Figure size 432x288 with 1 Axes>"
      ]
     },
     "metadata": {
      "needs_background": "light"
     },
     "output_type": "display_data"
    }
   ],
   "source": [
    "# Reviews by variation\n",
    "\n",
    "# Visualizing data\n",
    "amazon_reviews_df.groupby(['variation', 'rating']).size().unstack().plot(kind='bar', \n",
    "                                                                         stacked=True, \n",
    "                                                                         title='Reviews by Variation',\n",
    "                                                                         color = ['indianred','lightsalmon','khaki','lightgreen','mediumseagreen'])\n",
    "\n",
    "\"\"\"\n",
    "Top 5 variations with most feedback:\n",
    " 1. Fire TV Stick\n",
    " 2. Black Plus\n",
    " 3. Black \n",
    " 4. Black Show\n",
    " 5. Black Dot\n",
    "\"\"\""
   ]
  },
  {
   "cell_type": "code",
   "execution_count": 36,
   "id": "fc3154fe",
   "metadata": {},
   "outputs": [
    {
     "data": {
      "text/plain": [
       "<AxesSubplot:title={'center':'Variation Distribution'}>"
      ]
     },
     "execution_count": 36,
     "metadata": {},
     "output_type": "execute_result"
    },
    {
     "data": {
      "image/png": "[encoded data removed]",
      "text/plain": [
       "<Figure size 2520x720 with 1 Axes>"
      ]
     },
     "metadata": {
      "needs_background": "light"
     },
     "output_type": "display_data"
    }
   ],
   "source": [
    "# Graph attributes\n",
    "\n",
    "amazon_reviews_df.groupby(['rating', 'variation']).size().unstack().plot(kind='box', figsize=(35,10), \n",
    "                                                                         title = 'Variation Distribution') # SIZE (X,Y)\n",
    "\n",
    "#amazon_reviews_df.boxplot(column='rating')\n",
    "# BOXPLOT PARA UNA SOLO EMPRESA O LAS EMPRESAS MAS INTERESANTES\n",
    "\n",
    "\"\"\"\n",
    "- The feedback medians are between the 10 -45\n",
    "\"\"\"    \n",
    "# What are those outliers? What do they mean?"
   ]
  },
  {
   "cell_type": "markdown",
   "id": "08466b13",
   "metadata": {},
   "source": [
    "### Analysis by Periods of time"
   ]
  },
  {
   "cell_type": "code",
   "execution_count": 37,
   "id": "ce97a469",
   "metadata": {},
   "outputs": [],
   "source": [
    "\"\"\"\n",
    "Each period takes 2 weeks, have 5 periods:\n",
    "\n",
    "Period 1: 2018-05-15 - 2018-06-01\n",
    "Period 2: 2018-06-01 - 2018-06-15\n",
    "Period 3: 2018-06-15 - 2018-07-01\n",
    "Period 4: 2018-07-01 - 2018-07-15\n",
    "Period 5: 2018-07-15 - 2018-08-01\n",
    "\"\"\"\n",
    "\n",
    "period_01 = amazon_reviews_df.loc[(amazon_reviews_df['date'] >= '2018-05-15') & (amazon_reviews_df['date'] < '2018-06-01')]\n",
    "period_02 = amazon_reviews_df.loc[(amazon_reviews_df['date'] >= '2018-06-01') & (amazon_reviews_df['date'] < '2018-06-15')]\n",
    "period_03 = amazon_reviews_df.loc[(amazon_reviews_df['date'] >= '2018-06-15') & (amazon_reviews_df['date'] < '2018-07-01')]\n",
    "period_04 = amazon_reviews_df.loc[(amazon_reviews_df['date'] >= '2018-07-01') & (amazon_reviews_df['date'] < '2018-07-15')]\n",
    "period_05 = amazon_reviews_df.loc[(amazon_reviews_df['date'] >= '2018-07-15') & (amazon_reviews_df['date'] < '2018-08-01')]"
   ]
  },
  {
   "cell_type": "code",
   "execution_count": 38,
   "id": "c0c50a05",
   "metadata": {},
   "outputs": [
    {
     "data": {
      "text/plain": [
       "<AxesSubplot:title={'center':'Period 01 Reviews by Variation'}, xlabel='variation'>"
      ]
     },
     "execution_count": 38,
     "metadata": {},
     "output_type": "execute_result"
    },
    {
     "data": {
      "image/png": "[encoded data removed]",
      "text/plain": [
       "<Figure size 432x288 with 1 Axes>"
      ]
     },
     "metadata": {
      "needs_background": "light"
     },
     "output_type": "display_data"
    }
   ],
   "source": [
    "# Visualizing Period 01\n",
    "period_01.groupby(['variation', 'rating']).size().unstack().plot(kind='bar', \n",
    "                                                                         stacked=True, \n",
    "                                                                         title='Period 01 Reviews by Variation',\n",
    "                                                                         color = ['indianred','lightsalmon','khaki','lightgreen','mediumseagreen'])"
   ]
  },
  {
   "cell_type": "code",
   "execution_count": 39,
   "id": "879b4d88",
   "metadata": {},
   "outputs": [
    {
     "data": {
      "text/plain": [
       "<AxesSubplot:title={'center':'Period 02 Reviews by Variation'}, xlabel='variation'>"
      ]
     },
     "execution_count": 39,
     "metadata": {},
     "output_type": "execute_result"
    },
    {
     "data": {
      "image/png": "[encoded data removed]",
      "text/plain": [
       "<Figure size 432x288 with 1 Axes>"
      ]
     },
     "metadata": {
      "needs_background": "light"
     },
     "output_type": "display_data"
    }
   ],
   "source": [
    "# Visualizing Period 02\n",
    "period_02.groupby(['variation', 'rating']).size().unstack().plot(kind='bar', \n",
    "                                                                         stacked=True, \n",
    "                                                                         title='Period 02 Reviews by Variation',\n",
    "                                                                         color = ['indianred','lightsalmon','khaki','lightgreen','mediumseagreen'])"
   ]
  },
  {
   "cell_type": "code",
   "execution_count": 40,
   "id": "e5b08a55",
   "metadata": {},
   "outputs": [
    {
     "data": {
      "text/plain": [
       "<AxesSubplot:title={'center':'Period 03 Reviews by Variation'}, xlabel='variation'>"
      ]
     },
     "execution_count": 40,
     "metadata": {},
     "output_type": "execute_result"
    },
    {
     "data": {
      "image/png": "[encoded data removed]",
      "text/plain": [
       "<Figure size 432x288 with 1 Axes>"
      ]
     },
     "metadata": {
      "needs_background": "light"
     },
     "output_type": "display_data"
    }
   ],
   "source": [
    "# Visualizing Period 03\n",
    "period_03.groupby(['variation', 'rating']).size().unstack().plot(kind='bar', \n",
    "                                                                         stacked=True, \n",
    "                                                                         title='Period 03 Reviews by Variation',\n",
    "                                                                         color = ['indianred','lightsalmon','khaki','lightgreen','mediumseagreen'])"
   ]
  },
  {
   "cell_type": "code",
   "execution_count": 41,
   "id": "ac65132b",
   "metadata": {},
   "outputs": [
    {
     "data": {
      "text/plain": [
       "<AxesSubplot:title={'center':'Period 04 Reviews by Variation'}, xlabel='variation'>"
      ]
     },
     "execution_count": 41,
     "metadata": {},
     "output_type": "execute_result"
    },
    {
     "data": {
      "image/png": "[encoded data removed]",
      "text/plain": [
       "<Figure size 432x288 with 1 Axes>"
      ]
     },
     "metadata": {
      "needs_background": "light"
     },
     "output_type": "display_data"
    }
   ],
   "source": [
    "# Visualizing Period 04\n",
    "period_04.groupby(['variation', 'rating']).size().unstack().plot(kind='bar', \n",
    "                                                                         stacked=True, \n",
    "                                                                         title='Period 04 Reviews by Variation',\n",
    "                                                                         color = ['indianred','lightsalmon','khaki','lightgreen','mediumseagreen'])"
   ]
  },
  {
   "cell_type": "code",
   "execution_count": 42,
   "id": "f403d589",
   "metadata": {},
   "outputs": [
    {
     "data": {
      "text/plain": [
       "<AxesSubplot:title={'center':'Period 05 Reviews by Variation'}, xlabel='variation'>"
      ]
     },
     "execution_count": 42,
     "metadata": {},
     "output_type": "execute_result"
    },
    {
     "data": {
      "image/png": "[encoded data removed]",
      "text/plain": [
       "<Figure size 432x288 with 1 Axes>"
      ]
     },
     "metadata": {
      "needs_background": "light"
     },
     "output_type": "display_data"
    }
   ],
   "source": [
    "# Visualizing Period 05\n",
    "period_05.groupby(['variation', 'rating']).size().unstack().plot(kind='bar', \n",
    "                                                                         stacked=True, \n",
    "                                                                         title='Period 05 Reviews by Variation',\n",
    "                                                                         color = ['indianred','lightsalmon','khaki','lightgreen','mediumseagreen'])\n",
    "\n",
    "# There has been more reviews in the last period, es comprensible que haya un gran aumento de revs tanto positivas como negativas\n",
    "# pues las variciones aumentaron de 4 a 16 en el último periodo, esto es X4"
   ]
  },
  {
   "cell_type": "markdown",
   "id": "1bf53576",
   "metadata": {},
   "source": [
    "### General Text Analysis"
   ]
  },
  {
   "cell_type": "code",
   "execution_count": 16,
   "id": "e6f6cd83",
   "metadata": {},
   "outputs": [],
   "source": [
    "\"\"\"\n",
    "1. Create Corpus\n",
    "2. Create Bag of words from corpus\n",
    "3. Cleaning: removing punctuation, and lowercasing everything\n",
    "4. Create Tokens\n",
    "5. Apply NLP methods such as Stemming and Lemmatization\n",
    "6. Delete Stop Words\n",
    "\n",
    "For model:\n",
    "\n",
    "- what is best? .. tfidf, count vector or binary count (1 or 0 if word apears in a review)? \n",
    "\"\"\""
   ]
  },
  {
   "cell_type": "markdown",
   "id": "7628df85",
   "metadata": {},
   "source": [
    "### Cleaning Text\n"
   ]
  },
  {
   "cell_type": "code",
   "execution_count": 2,
   "id": "9240e4d6",
   "metadata": {},
   "outputs": [],
   "source": [
    "#  Getting rid of stop words and also removing short or long words. \n",
    "# This function cleans one word at a time from a set of words, in this case a \"review\".\n",
    "def cleaning_revs(word, stop_words):\n",
    "    word = word.lower()\n",
    "    words = re.findall('[a-záéíóúüñ]+', word)# Making sure synopsis words dont have a-záéíóúüñ \n",
    "    new_words = [w for w in words if ((not w in stop_words) and len(w)>=3 and len(w)<=24)] # Keeping only words ->\n",
    "    return new_words \n",
    "\n",
    "# Function that joins all the cleaned words to use them in a \n",
    "def joining_revs(word,stop_words):\n",
    "    clean_words = cleaning_revs(word, stop_words)\n",
    "    vocabulary = \" \".join(clean_words)\n",
    "    return vocabulary       \n",
    "\n",
    "# Function that cleans one review at a time by calling the above function \n",
    "# it returns a \"Vocabulary\", this is a list of lists, each list contains all words in a review\n",
    "def clean_each_review(review):\n",
    "        return joining_revs(review.strip(),s_w)\n",
    "\n",
    "s_w = stopwords.words('english')\n",
    "\n",
    "# More words that we can ignore to refine our vocabulary \n",
    "s_w.extend(['echo','alexa','amazon','dot','purchased','one', 'two','zzzzzzz','zzzz', 'device', 'thing'])\n",
    "\n",
    "s_w += list(string.punctuation)"
   ]
  },
  {
   "cell_type": "code",
   "execution_count": null,
   "id": "e5af1f8e",
   "metadata": {},
   "outputs": [],
   "source": [
    "pattern = \"([a-zA-Z]+(?:'[a-z]+)?)\"\n",
    "review_tokens_raw = nltk.regexp_tokenize(macbeth_text, pattern)"
   ]
  },
  {
   "cell_type": "code",
   "execution_count": null,
   "id": "27154606",
   "metadata": {},
   "outputs": [],
   "source": [
    "amazon_reviews_df['cleaned_reviews'] = amazon_reviews_df['verified_reviews'].apply(lambda r: clean_each_review(r))\n",
    "amazon_reviews_df.head(24)"
   ]
  },
  {
   "cell_type": "code",
   "execution_count": null,
   "id": "eaf214d6",
   "metadata": {},
   "outputs": [],
   "source": [
    "\"\"\"WHEN ARE TOKENS ADDED??\"\"\"\n",
    "tokens = word_tokenize(some_text_data)\n",
    "\n",
    "\"\"\"\n",
    "1) \n",
    "\"\"\""
   ]
  },
  {
   "cell_type": "code",
   "execution_count": null,
   "id": "6f34df4e",
   "metadata": {},
   "outputs": [],
   "source": [
    "\"\"\" CAN I PREDICT THE TOPIC OF THE PROBLEM A USER HAD WITH ITS ALEXA ?\"\"\""
   ]
  },
  {
   "cell_type": "code",
   "execution_count": 24,
   "id": "757d3b15",
   "metadata": {},
   "outputs": [
    {
     "data": {
      "text/plain": [
       "array(['Charcoal Fabric ', 'Walnut Finish ', 'Heather Gray Fabric ',\n",
       "       'Sandstone Fabric ', 'Oak Finish ', 'Black', 'White',\n",
       "       'Black  Spot', 'White  Spot', 'Black  Show', 'White  Show',\n",
       "       'Black  Plus', 'White  Plus', 'Configuration: Fire TV Stick',\n",
       "       'Black  Dot', 'White  Dot'], dtype=object)"
      ]
     },
     "execution_count": 24,
     "metadata": {},
     "output_type": "execute_result"
    }
   ],
   "source": [
    "\"\"\"\n",
    "# Visualizing data\n",
    "dates = amazon_reviews_df['date'].sort_values()\n",
    "ratings = amazon_reviews_df['rating']\n",
    "\n",
    "# Graph attributes\n",
    "plt.figure(figsize=(10,5))\n",
    "\n",
    "plt.xlabel('Dates')\n",
    "plt.ylabel('Raitings')\n",
    "plt.title('Ratings By Date')\n",
    "\n",
    "plt.yticks([1, 2, 3, 4, 5])\n",
    "\n",
    "# Plotting\n",
    "plt.plot(dates, ratings, marker = 'o', markerfacecolor = 'cornflowerblue', color = 'lightsteelblue')\n",
    "\n",
    "# Graph attributes\n",
    "plt.figure(figsize=(10,5))\n",
    "plt.yticks([1, 2, 3, 4, 5])\n",
    "plt.scatter(dates, ratings, \n",
    "         c = ratings,\n",
    "         cmap = 'YlGnBu')\n",
    "\n",
    "\n",
    "plt.xticks([1, 2, 3, 4, 5])\n",
    "plt.hist(amazon_reviews_df['rating'], bins = 4, color='khaki')\n",
    "\n",
    "# Bad reviews from \n",
    "revs_07_15 = amazon_reviews_df.loc[(amazon_reviews_df['date'] >= '2018-06-15') & (amazon_reviews_df['date'] <= '2018-08-01')]\n",
    "bad_revs_07_15 = revs_07_15.loc[(amazon_reviews_df['rating'] <= 3) ]\n",
    "bad_reviews = bad_revs_07_15['verified_reviews']\n",
    "\n",
    "#bad_revs_05_15.count()\n",
    "#main_movie_info.loc[(main_movie_info['Years'] >= 1920) & (main_movie_info['Years'] <= 1929)]\n",
    "\n",
    "# Calcular promedio de reseñas por empresa (variación) \n",
    "# A partir de ese promedio ¿qué empresa tiene más reseñas? ¿qué empresa tiene más reseñas positivas y negativas?\n",
    "\"\"\"\n",
    "#amazon_reviews_df['variation'].unique()\n",
    "#dates = amazon_reviews_df['date']\n",
    "#amazon_reviews_df.style.format({\"date\": lambda t: t.strftime(\"%m/%Y\")})\n",
    "#amazon_reviews_df = amazon_reviews_df.sort_values('date', ascending=True)\n",
    "\n"
   ]
  },
  {
   "cell_type": "markdown",
   "id": "915e2e9b",
   "metadata": {},
   "source": [
    "## Modeling"
   ]
  },
  {
   "cell_type": "markdown",
   "id": "475abe64",
   "metadata": {},
   "source": [
    "## Evaluation"
   ]
  },
  {
   "cell_type": "markdown",
   "id": "9104ed3d",
   "metadata": {},
   "source": [
    "## Conclusion"
   ]
  },
  {
   "cell_type": "code",
   "execution_count": null,
   "id": "48333080",
   "metadata": {},
   "outputs": [],
   "source": []
  }
 ],
 "metadata": {
  "kernelspec": {
   "display_name": "Python 3 (ipykernel)",
   "language": "python",
   "name": "python3"
  },
  "language_info": {
   "codemirror_mode": {
    "name": "ipython",
    "version": 3
   },
   "file_extension": ".py",
   "mimetype": "text/x-python",
   "name": "python",
   "nbconvert_exporter": "python",
   "pygments_lexer": "ipython3",
   "version": "3.9.12"
  }
 },
 "nbformat": 4,
 "nbformat_minor": 5
}
